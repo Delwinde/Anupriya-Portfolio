{
  "cells": [
    {
      "cell_type": "markdown",
      "metadata": {
        "id": "view-in-github",
        "colab_type": "text"
      },
      "source": [
        "<a href=\"https://colab.research.google.com/github/Delwinde/Anupriya-Portfolio/blob/master/Data_Science_Ecosystem.ipynb\" target=\"_parent\"><img src=\"https://colab.research.google.com/assets/colab-badge.svg\" alt=\"Open In Colab\"/></a>"
      ]
    },
    {
      "cell_type": "code",
      "execution_count": null,
      "id": "f4a89a98-02b1-48aa-b244-394c1c792d37",
      "metadata": {
        "tags": [],
        "id": "f4a89a98-02b1-48aa-b244-394c1c792d37",
        "outputId": "3d80b0de-fe67-4fe7-a652-a668aca1abac"
      },
      "outputs": [
        {
          "name": "stdout",
          "output_type": "stream",
          "text": [
            "hello world\n"
          ]
        }
      ],
      "source": [
        "print(\"hello world\")"
      ]
    },
    {
      "cell_type": "markdown",
      "id": "3a6145f6-45fd-4d6b-b017-f4bd2e823a38",
      "metadata": {
        "id": "3a6145f6-45fd-4d6b-b017-f4bd2e823a38"
      },
      "source": [
        "<h1> Data Science Tools"
      ]
    },
    {
      "cell_type": "markdown",
      "id": "c1d50a48-b163-45a1-bb84-3ddd553d11ac",
      "metadata": {
        "id": "c1d50a48-b163-45a1-bb84-3ddd553d11ac"
      },
      "source": [
        "<p> Some of the popular languages that Data Scientists use are: </p>\n",
        "\n",
        "<ol>\n",
        "    <li> Python </li>\n",
        "    <li> R </li>\n",
        "    <li> SQL </li>\n",
        "    <li> Julia </li>\n",
        "    <li> Scala </li>\n",
        "    <li> MATLAB </li>\n",
        "</ol>"
      ]
    },
    {
      "cell_type": "markdown",
      "id": "398e198b-5219-4f90-8376-d9b1a01b75b3",
      "metadata": {
        "id": "398e198b-5219-4f90-8376-d9b1a01b75b3"
      },
      "source": [
        "<p> In this notebook, Data Science Tools and Ecosystem are summarized. </p>"
      ]
    },
    {
      "cell_type": "markdown",
      "id": "03b926e1-6786-41a6-837d-d67cf62806b8",
      "metadata": {
        "tags": [],
        "id": "03b926e1-6786-41a6-837d-d67cf62806b8"
      },
      "source": [
        "**Objectives**\n",
        "\n",
        "<ul>\n",
        "    <li> List popular languages for Data Science </li>\n",
        "    <li> Describe commonly used libraries for Data Science. </li>\n",
        "    <li> Show tools used in Data Science environments. </li>\n",
        "    <li> Provide examples of arithmetic operations in Python. </li>\n",
        "    \n",
        "</ul>"
      ]
    },
    {
      "cell_type": "markdown",
      "id": "d7ed1140-46f2-4aa0-9487-5cf1c32b4393",
      "metadata": {
        "id": "d7ed1140-46f2-4aa0-9487-5cf1c32b4393"
      },
      "source": [
        "<p> Some of the commonly used libraries used by Data Scientists include: </p>\n",
        "\n",
        "<ol>\n",
        "    <li> XGBoost </li>\n",
        "    <li> statsmodel </li>\n",
        "    <li> NLTK </li>\n",
        "</ol>"
      ]
    },
    {
      "cell_type": "markdown",
      "id": "06157f60-6ec2-4786-801c-ecdddb81ef72",
      "metadata": {
        "id": "06157f60-6ec2-4786-801c-ecdddb81ef72"
      },
      "source": [
        "<table>\n",
        "  <tr>\n",
        "    <th>Data Science Tools</th>\n",
        "  </tr>\n",
        "  <tr>\n",
        "    <td>JupyterLab</td>\n",
        "  </tr>\n",
        "  <tr>\n",
        "    <td>VS Code</td>\n",
        "  </tr>\n",
        "  <tr>\n",
        "    <td>RStudio</td>\n",
        "  </tr>\n",
        "</table>\n"
      ]
    },
    {
      "cell_type": "markdown",
      "id": "61b1ef16-dfe9-4986-9468-a1638be75851",
      "metadata": {
        "id": "61b1ef16-dfe9-4986-9468-a1638be75851"
      },
      "source": [
        "<h3> Below are a few examples of evaluating arithmetic expressions in Python </h3>\n",
        "\n"
      ]
    },
    {
      "cell_type": "code",
      "execution_count": null,
      "id": "8739bc92-6286-4452-b5ca-adb93f0bbcfc",
      "metadata": {
        "tags": [],
        "id": "8739bc92-6286-4452-b5ca-adb93f0bbcfc",
        "outputId": "70188730-8a70-41fd-a574-d55145c6dbde"
      },
      "outputs": [
        {
          "data": {
            "text/plain": [
              "17"
            ]
          },
          "execution_count": 22,
          "metadata": {},
          "output_type": "execute_result"
        }
      ],
      "source": [
        "#This a simple arithmetic expression to mutiply then add integers\n",
        "(3*4)+5"
      ]
    },
    {
      "cell_type": "code",
      "execution_count": null,
      "id": "e63a58dc-ac96-4de4-a17e-8c80fa3e1fd6",
      "metadata": {
        "tags": [],
        "id": "e63a58dc-ac96-4de4-a17e-8c80fa3e1fd6",
        "outputId": "4f9b4264-4dce-46d3-c3c5-8aa3fd0d0cb7"
      },
      "outputs": [
        {
          "data": {
            "text/plain": [
              "3.3333333333333335"
            ]
          },
          "execution_count": 24,
          "metadata": {},
          "output_type": "execute_result"
        }
      ],
      "source": [
        "#This will convert 200 minutes to hours by diving by 60\n",
        "\n",
        "(200/60)"
      ]
    },
    {
      "cell_type": "markdown",
      "id": "eef278bd-baef-45a8-ae26-1d36965eb092",
      "metadata": {
        "id": "eef278bd-baef-45a8-ae26-1d36965eb092"
      },
      "source": [
        "<h2>Author: SHAM-UNA DELWINDE YUSSIF </h2>"
      ]
    }
  ],
  "metadata": {
    "kernelspec": {
      "display_name": "Python 3 (ipykernel)",
      "language": "python",
      "name": "python3"
    },
    "language_info": {
      "codemirror_mode": {
        "name": "ipython",
        "version": 3
      },
      "file_extension": ".py",
      "mimetype": "text/x-python",
      "name": "python",
      "nbconvert_exporter": "python",
      "pygments_lexer": "ipython3",
      "version": "3.11.7"
    },
    "colab": {
      "provenance": [],
      "include_colab_link": true
    }
  },
  "nbformat": 4,
  "nbformat_minor": 5
}